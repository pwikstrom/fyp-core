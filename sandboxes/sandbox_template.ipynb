{
 "cells": [
  {
   "cell_type": "code",
   "execution_count": null,
   "metadata": {},
   "outputs": [],
   "source": [
    "%load_ext autoreload\n",
    "%autoreload 2"
   ]
  },
  {
   "cell_type": "code",
   "execution_count": null,
   "metadata": {},
   "outputs": [],
   "source": [
    "# initialize the sandbox\n",
    "from os import getcwd\n",
    "from os.path import join, exists\n",
    "from sys import path as sys_path\n",
    "\n",
    "# look for the folder that contains the __proj__.py file, which is the root folder for the project structure\n",
    "here = getcwd().split(\"/\")\n",
    "while not exists(join(\"/\".join(here),\"__proj__.py\")):\n",
    "    here.pop()\n",
    "abs_project_root_path = join(\"/\".join(here))\n",
    "\n",
    "# add project root path to PATH since the modules are located in the project structure\n",
    "sys_path.append(abs_project_root_path)\n",
    "\n",
    "import fyp"
   ]
  },
  {
   "cell_type": "code",
   "execution_count": null,
   "metadata": {},
   "outputs": [],
   "source": [
    "# run an Apple script to generate a Zeeschuimer ndjson. Then process the ndjson to generate a dataframe with the relevant data\n",
    "fyp.get_baseline_log(the_script=\"../click_scripts/z_quick.scrpt\")\n",
    "\n",
    "# You can also create Zeeschuimer logs manually and save the ndjson in the downloads folder. \n",
    "# Then you run 'fyp.get_baseline_log()' (i.e. without arguments) to process the latest ndjson in the downlaods folder."
   ]
  },
  {
   "cell_type": "code",
   "execution_count": null,
   "metadata": {},
   "outputs": [],
   "source": [
    "# download videos from the Zeeschuimer log. In this example, 5 random videos are downloaded.\n",
    "# Call the function with no arguments to download all videos in the log.\n",
    "fyp.download_videos(some_items_to_download=5)"
   ]
  },
  {
   "cell_type": "code",
   "execution_count": null,
   "metadata": {},
   "outputs": [],
   "source": [
    "# transcribe the audio in the videos. In this example, 2 random videos are transcribed.\n",
    "# Call the function with no arguments to transcribe all downloaded videos.\n",
    "fyp.transcribe_audio(some_items_to_transcribe=2)"
   ]
  },
  {
   "cell_type": "code",
   "execution_count": null,
   "metadata": {},
   "outputs": [],
   "source": [
    "# The standard setting is to analyze videos as soon as they are downloaded which means that you don'test_001.ipynb\n",
    "# need to run this. But sometimes it is still useful to go through all videos in the records and attempt to\n",
    "# analyze them. In this example, 1 random video is analyzed. Call the function with no arguments to analyze all videos in the log.\n",
    "fyp.analyze_videos(some_videos_to_analyze=1)"
   ]
  },
  {
   "cell_type": "code",
   "execution_count": null,
   "metadata": {},
   "outputs": [],
   "source": [
    "# organize the results into a couple of neat structure CSVs for various analyses and uses\n",
    "fyp.organize_results()"
   ]
  }
 ],
 "metadata": {
  "kernelspec": {
   "display_name": "Python 3",
   "language": "python",
   "name": "python3"
  },
  "language_info": {
   "codemirror_mode": {
    "name": "ipython",
    "version": 3
   },
   "file_extension": ".py",
   "mimetype": "text/x-python",
   "name": "python",
   "nbconvert_exporter": "python",
   "pygments_lexer": "ipython3",
   "version": "3.12.4"
  }
 },
 "nbformat": 4,
 "nbformat_minor": 2
}
