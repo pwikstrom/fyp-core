{
 "cells": [
  {
   "cell_type": "code",
   "execution_count": null,
   "metadata": {},
   "outputs": [],
   "source": [
    "%load_ext autoreload\n",
    "%autoreload 2"
   ]
  },
  {
   "cell_type": "code",
   "execution_count": null,
   "metadata": {},
   "outputs": [],
   "source": [
    "# initialize the sandbox\n",
    "from os.path import join, exists\n",
    "from importlib import reload\n",
    "from os import getcwd\n",
    "from os.path import join, exists\n",
    "from sys import path as sys_path\n",
    "here = getcwd().split(\"/\")\n",
    "while not exists(join(\"/\".join(here),\"__proj__.py\")):\n",
    "    here.pop()\n",
    "\n",
    "# this is the root folder for the project structure\n",
    "abs_project_root_path = join(\"/\".join(here))\n",
    "\n",
    "# add project root path to PATH since the modules are located in the project structure\n",
    "sys_path.append(abs_project_root_path)\n",
    "import fyp\n",
    "reload(fyp)"
   ]
  },
  {
   "cell_type": "code",
   "execution_count": null,
   "metadata": {},
   "outputs": [],
   "source": [
    "# okay"
   ]
  }
 ],
 "metadata": {
  "kernelspec": {
   "display_name": "Python 3",
   "language": "python",
   "name": "python3"
  },
  "language_info": {
   "codemirror_mode": {
    "name": "ipython",
    "version": 3
   },
   "file_extension": ".py",
   "mimetype": "text/x-python",
   "name": "python",
   "nbconvert_exporter": "python",
   "pygments_lexer": "ipython3",
   "version": "3.12.4"
  }
 },
 "nbformat": 4,
 "nbformat_minor": 2
}
